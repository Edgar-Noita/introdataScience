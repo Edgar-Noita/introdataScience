{
  "nbformat": 4,
  "nbformat_minor": 0,
  "metadata": {
    "colab": {
      "provenance": []
    },
    "kernelspec": {
      "name": "python3",
      "display_name": "Python 3"
    },
    "language_info": {
      "name": "python"
    }
  },
  "cells": [
    {
      "cell_type": "code",
      "execution_count": null,
      "metadata": {
        "id": "vr8FfE3XdLk1"
      },
      "outputs": [],
      "source": [
        "\n"
      ]
    },
    {
      "cell_type": "code",
      "source": [],
      "metadata": {
        "id": "uYWXC1Ojdmey"
      },
      "execution_count": null,
      "outputs": []
    },
    {
      "cell_type": "code",
      "source": [
        " from urllib.request import urlopen"
      ],
      "metadata": {
        "id": "jfgW1oOOdfYe"
      },
      "execution_count": 1,
      "outputs": []
    },
    {
      "cell_type": "code",
      "source": [
        " url = \"http://olympus.realpython.org/profiles/dionysus\""
      ],
      "metadata": {
        "id": "iUpKtEvzeihm"
      },
      "execution_count": 2,
      "outputs": []
    },
    {
      "cell_type": "code",
      "source": [
        "page = urlopen(url)"
      ],
      "metadata": {
        "id": "8Z3ugj0Xeme8"
      },
      "execution_count": 3,
      "outputs": []
    },
    {
      "cell_type": "code",
      "source": [
        "html_bytes = page.read()\n",
        "html = html_bytes.decode(\"utf-8\")"
      ],
      "metadata": {
        "id": "sXxkNbSDetmk"
      },
      "execution_count": 4,
      "outputs": []
    },
    {
      "cell_type": "code",
      "source": [
        "print(html)"
      ],
      "metadata": {
        "colab": {
          "base_uri": "https://localhost:8080/"
        },
        "id": "1wbuC_FEewnU",
        "outputId": "5cb726d5-94c1-4190-e5f3-9a39ff5da215"
      },
      "execution_count": 5,
      "outputs": [
        {
          "output_type": "stream",
          "name": "stdout",
          "text": [
            "<html>\n",
            "<head>\n",
            "<TITLE >Profile: Dionysus</title  / >\n",
            "</head>\n",
            "<body bgcolor=\"yellow\">\n",
            "<center>\n",
            "<br><br>\n",
            "<img src=\"/static/dionysus.jpg\" />\n",
            "<h2>Name: Dionysus</h2>\n",
            "<img src=\"/static/grapes.png\"><br><br>\n",
            "Hometown: Mount Olympus\n",
            "<br><br>\n",
            "Favorite animal: Leopard <br>\n",
            "<br>\n",
            "Favorite Color: Wine\n",
            "</center>\n",
            "</body>\n",
            "</html>\n",
            "\n"
          ]
        }
      ]
    },
    {
      "cell_type": "code",
      "source": [
        "\n",
        "title_index = html.find(\"<title>\")\n",
        "start_index = title_index + len(\"<title>\")\n",
        "end_index = html.find(\"</title>\")"
      ],
      "metadata": {
        "id": "Xykz1ue0gQuc"
      },
      "execution_count": 6,
      "outputs": []
    },
    {
      "cell_type": "code",
      "source": [
        "title = html[start_index:end_index]\n",
        "print(title)"
      ],
      "metadata": {
        "colab": {
          "base_uri": "https://localhost:8080/"
        },
        "id": "eOYVU7IDgufm",
        "outputId": "a71c0501-7313-4797-bdb5-8634c9d97cca"
      },
      "execution_count": 7,
      "outputs": [
        {
          "output_type": "stream",
          "name": "stdout",
          "text": [
            "\n",
            "<head>\n",
            "<TITLE >Profile: Dionysus</title  / >\n",
            "</head>\n",
            "<body bgcolor=\"yellow\">\n",
            "<center>\n",
            "<br><br>\n",
            "<img src=\"/static/dionysus.jpg\" />\n",
            "<h2>Name: Dionysus</h2>\n",
            "<img src=\"/static/grapes.png\"><br><br>\n",
            "Hometown: Mount Olympus\n",
            "<br><br>\n",
            "Favorite animal: Leopard <br>\n",
            "<br>\n",
            "Favorite Color: Wine\n",
            "</center>\n",
            "</body>\n",
            "</html>\n"
          ]
        }
      ]
    },
    {
      "cell_type": "code",
      "source": [
        "import re\n",
        "from urllib.request import urlopen\n",
        "\n",
        "url = \"http://olympus.realpython.org/profiles/dionysus\"\n",
        "page = urlopen(url)\n",
        "html = page.read().decode(\"utf-8\")\n",
        "\n",
        "pattern = \"<title.*?>.*?</title.*?>\"\n",
        "match_results = re.search(pattern, html, re.IGNORECASE)\n",
        "title = match_results.group()\n",
        "title = re.sub(\"<.*?>\", \"\", title) # Remove HTML tags\n",
        "\n",
        "print(title)"
      ],
      "metadata": {
        "id": "PADPqmfeslZa",
        "outputId": "b3ca29cf-0848-4981-f523-1b8ab69dec92",
        "colab": {
          "base_uri": "https://localhost:8080/"
        }
      },
      "execution_count": 8,
      "outputs": [
        {
          "output_type": "stream",
          "name": "stdout",
          "text": [
            "Profile: Dionysus\n"
          ]
        }
      ]
    },
    {
      "cell_type": "code",
      "source": [
        "import re\n",
        "from urllib.request import urlopen\n",
        "\n",
        "url = \"http://olympus.realpython.org/profiles/poseidon\"\n",
        "page = urlopen(url)\n",
        "html = page.read().decode(\"utf-8\")\n",
        "\n",
        "pattern = \"<title.*?>.*?</title.*?>\"\n",
        "match_results = re.search(pattern, html, re.IGNORECASE)\n",
        "title = match_results.group()\n",
        "title = re.sub(\"<.*?>\", \"\", title) # Remove HTML tags\n",
        "\n",
        "print(html)"
      ],
      "metadata": {
        "colab": {
          "base_uri": "https://localhost:8080/"
        },
        "id": "X9lRoyEpwNOD",
        "outputId": "87752865-0622-4f20-dcba-95bf4681ac79"
      },
      "execution_count": 9,
      "outputs": [
        {
          "output_type": "stream",
          "name": "stdout",
          "text": [
            "<html>\n",
            "<head>\n",
            "<title >Profile: Poseidon</title>\n",
            "</head>\n",
            "<body bgcolor=\"yellow\">\n",
            "<center>\n",
            "<br><br>\n",
            "<img src=\"/static/poseidon.jpg\" />\n",
            "<h2>Name: Poseidon</h2>\n",
            "<br><br>\n",
            "Favorite animal: Dolphin\n",
            "<br><br>\n",
            "Favorite color: Blue\n",
            "<br><br>\n",
            "Hometown: Sea\n",
            "</center>\n",
            "</body>\n",
            "</html>\n",
            "\n"
          ]
        }
      ]
    },
    {
      "cell_type": "code",
      "source": [
        "pattern = \"color:.*?\\n\"\n",
        "match_results = re.search(pattern, html, re.IGNORECASE)\n",
        "color = match_results.group()\n",
        "color = re.sub(\"color:\", \"\", color) # Remove HTML tags\n",
        "print(color)\n"
      ],
      "metadata": {
        "colab": {
          "base_uri": "https://localhost:8080/"
        },
        "id": "x1F2I8LJw_3C",
        "outputId": "58040a35-3430-4f75-9adb-8069546b2930"
      },
      "execution_count": 10,
      "outputs": [
        {
          "output_type": "stream",
          "name": "stdout",
          "text": [
            " Blue\n",
            "\n"
          ]
        }
      ]
    },
    {
      "cell_type": "code",
      "source": [
        "\n"
      ],
      "metadata": {
        "id": "CEYW0vIY2eXT"
      },
      "execution_count": 10,
      "outputs": []
    }
  ]
}